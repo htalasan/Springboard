{
 "cells": [
  {
   "cell_type": "markdown",
   "metadata": {},
   "source": [
    "# What is the True Normal Human Body Temperature? \n",
    "\n",
    "#### Background\n",
    "\n",
    "The mean normal body temperature was held to be 37$^{\\circ}$C or 98.6$^{\\circ}$F for more than 120 years since it was first conceptualized and reported by Carl Wunderlich in a famous 1868 book. But, is this value statistically correct?"
   ]
  },
  {
   "cell_type": "markdown",
   "metadata": {},
   "source": [
    "<h3>Exercises</h3>\n",
    "\n",
    "<p>In this exercise, you will analyze a dataset of human body temperatures and employ the concepts of hypothesis testing, confidence intervals, and statistical significance.</p>\n",
    "\n",
    "<p>Answer the following questions <b>in this notebook below and submit to your Github account</b>.</p> \n",
    "\n",
    "<ol>\n",
    "<li>  Is the distribution of body temperatures normal? \n",
    "    <ul>\n",
    "    <li> Although this is not a requirement for the Central Limit Theorem to hold (read the introduction on Wikipedia's page about the CLT carefully: https://en.wikipedia.org/wiki/Central_limit_theorem), it gives us some peace of mind that the population may also be normally distributed if we assume that this sample is representative of the population.\n",
    "    <li> Think about the way you're going to check for the normality of the distribution. Graphical methods are usually used first, but there are also other ways: https://en.wikipedia.org/wiki/Normality_test\n",
    "    </ul>\n",
    "<li>  Is the sample size large? Are the observations independent?\n",
    "    <ul>\n",
    "    <li> Remember that this is a condition for the Central Limit Theorem, and hence the statistical tests we are using, to apply.\n",
    "    </ul>\n",
    "<li>  Is the true population mean really 98.6 degrees F?\n",
    "    <ul>\n",
    "    <li> First, try a bootstrap hypothesis test.\n",
    "    <li> Now, let's try frequentist statistical testing. Would you use a one-sample or two-sample test? Why?\n",
    "    <li> In this situation, is it appropriate to use the $t$ or $z$ statistic? \n",
    "    <li> Now try using the other test. How is the result be different? Why?\n",
    "    </ul>\n",
    "<li>  Draw a small sample of size 10 from the data and repeat both frequentist tests. \n",
    "    <ul>\n",
    "    <li> Which one is the correct one to use? \n",
    "    <li> What do you notice? What does this tell you about the difference in application of the $t$ and $z$ statistic?\n",
    "    </ul>\n",
    "<li>  At what temperature should we consider someone's temperature to be \"abnormal\"?\n",
    "    <ul>\n",
    "    <li> As in the previous example, try calculating everything using the boostrap approach, as well as the frequentist approach.\n",
    "    <li> Start by computing the margin of error and confidence interval. When calculating the confidence interval, keep in mind that you should use the appropriate formula for one draw, and not N draws.\n",
    "    </ul>\n",
    "<li>  Is there a significant difference between males and females in normal temperature?\n",
    "    <ul>\n",
    "    <li> What testing approach did you use and why?\n",
    "    <li> Write a story with your conclusion in the context of the original problem.\n",
    "    </ul>\n",
    "</ol>\n",
    "\n",
    "You can include written notes in notebook cells using Markdown: \n",
    "   - In the control panel at the top, choose Cell > Cell Type > Markdown\n",
    "   - Markdown syntax: http://nestacms.com/docs/creating-content/markdown-cheat-sheet\n",
    "\n",
    "#### Resources\n",
    "\n",
    "+ Information and data sources: http://www.amstat.org/publications/jse/datasets/normtemp.txt, http://www.amstat.org/publications/jse/jse_data_archive.htm\n",
    "+ Markdown syntax: http://nestacms.com/docs/creating-content/markdown-cheat-sheet\n",
    "\n",
    "****"
   ]
  },
  {
   "cell_type": "code",
   "execution_count": 47,
   "metadata": {},
   "outputs": [],
   "source": [
    "import pandas as pd\n",
    "import numpy as np\n",
    "import matplotlib.pyplot as plt\n",
    "import seaborn as sns\n",
    "from scipy import stats\n",
    "\n",
    "%matplotlib inline\n",
    "\n",
    "sns.set()\n",
    "\n",
    "df = pd.read_csv('data/human_body_temperature.csv')"
   ]
  },
  {
   "cell_type": "code",
   "execution_count": 48,
   "metadata": {},
   "outputs": [],
   "source": [
    "# functions\n",
    "def ecdf(data):\n",
    "    \"\"\"Compute ECDF for a one-dimensional array of measurements.\"\"\"\n",
    "    # Number of data points: n\n",
    "    n = len(data)\n",
    "\n",
    "    # x-data for the ECDF: x\n",
    "    x = np.sort(data)\n",
    "\n",
    "    # y-data for the ECDF: y\n",
    "    y = np.arange(1, n + 1) / n\n",
    "\n",
    "    return x, y\n",
    "\n",
    "def draw_bs_reps(data, func, size=1):\n",
    "    \"\"\"Draw bootstrap replicates.\"\"\"\n",
    "\n",
    "    # Initialize array of replicates: bs_replicates\n",
    "    bs_replicates = np.empty(size)\n",
    "\n",
    "    # Generate replicates\n",
    "    for i in range(size):\n",
    "        bs_replicates[i] = bootstrap_replicate_1d(data,func)\n",
    "\n",
    "    return bs_replicates\n",
    "\n",
    "def bootstrap_replicate_1d(data, func):\n",
    "    return func(np.random.choice(data, size=len(data)))"
   ]
  },
  {
   "cell_type": "markdown",
   "metadata": {
    "collapsed": true
   },
   "source": [
    "Explore the dataset."
   ]
  },
  {
   "cell_type": "code",
   "execution_count": 49,
   "metadata": {
    "scrolled": true
   },
   "outputs": [
    {
     "data": {
      "text/html": [
       "<div>\n",
       "<style scoped>\n",
       "    .dataframe tbody tr th:only-of-type {\n",
       "        vertical-align: middle;\n",
       "    }\n",
       "\n",
       "    .dataframe tbody tr th {\n",
       "        vertical-align: top;\n",
       "    }\n",
       "\n",
       "    .dataframe thead th {\n",
       "        text-align: right;\n",
       "    }\n",
       "</style>\n",
       "<table border=\"1\" class=\"dataframe\">\n",
       "  <thead>\n",
       "    <tr style=\"text-align: right;\">\n",
       "      <th></th>\n",
       "      <th>temperature</th>\n",
       "      <th>gender</th>\n",
       "      <th>heart_rate</th>\n",
       "    </tr>\n",
       "  </thead>\n",
       "  <tbody>\n",
       "    <tr>\n",
       "      <th>0</th>\n",
       "      <td>99.3</td>\n",
       "      <td>F</td>\n",
       "      <td>68.0</td>\n",
       "    </tr>\n",
       "    <tr>\n",
       "      <th>1</th>\n",
       "      <td>98.4</td>\n",
       "      <td>F</td>\n",
       "      <td>81.0</td>\n",
       "    </tr>\n",
       "    <tr>\n",
       "      <th>2</th>\n",
       "      <td>97.8</td>\n",
       "      <td>M</td>\n",
       "      <td>73.0</td>\n",
       "    </tr>\n",
       "    <tr>\n",
       "      <th>3</th>\n",
       "      <td>99.2</td>\n",
       "      <td>F</td>\n",
       "      <td>66.0</td>\n",
       "    </tr>\n",
       "    <tr>\n",
       "      <th>4</th>\n",
       "      <td>98.0</td>\n",
       "      <td>F</td>\n",
       "      <td>73.0</td>\n",
       "    </tr>\n",
       "  </tbody>\n",
       "</table>\n",
       "</div>"
      ],
      "text/plain": [
       "   temperature gender  heart_rate\n",
       "0         99.3      F        68.0\n",
       "1         98.4      F        81.0\n",
       "2         97.8      M        73.0\n",
       "3         99.2      F        66.0\n",
       "4         98.0      F        73.0"
      ]
     },
     "execution_count": 49,
     "metadata": {},
     "output_type": "execute_result"
    }
   ],
   "source": [
    "df.head()"
   ]
  },
  {
   "cell_type": "code",
   "execution_count": 50,
   "metadata": {
    "scrolled": false
   },
   "outputs": [
    {
     "name": "stdout",
     "output_type": "stream",
     "text": [
      "<class 'pandas.core.frame.DataFrame'>\n",
      "RangeIndex: 130 entries, 0 to 129\n",
      "Data columns (total 3 columns):\n",
      "temperature    130 non-null float64\n",
      "gender         130 non-null object\n",
      "heart_rate     130 non-null float64\n",
      "dtypes: float64(2), object(1)\n",
      "memory usage: 2.6+ KB\n"
     ]
    }
   ],
   "source": [
    "df.info()"
   ]
  },
  {
   "cell_type": "markdown",
   "metadata": {},
   "source": [
    "There are three columns in this dataframe: temperature (a numerical datatype), gender (a string datatype) and heart rate (a numerical datatype). There are a total of 130 rows or observations. It seems there are no null objects so cleaning may not be necessary. "
   ]
  },
  {
   "cell_type": "code",
   "execution_count": 51,
   "metadata": {},
   "outputs": [
    {
     "data": {
      "text/html": [
       "<div>\n",
       "<style scoped>\n",
       "    .dataframe tbody tr th:only-of-type {\n",
       "        vertical-align: middle;\n",
       "    }\n",
       "\n",
       "    .dataframe tbody tr th {\n",
       "        vertical-align: top;\n",
       "    }\n",
       "\n",
       "    .dataframe thead th {\n",
       "        text-align: right;\n",
       "    }\n",
       "</style>\n",
       "<table border=\"1\" class=\"dataframe\">\n",
       "  <thead>\n",
       "    <tr style=\"text-align: right;\">\n",
       "      <th></th>\n",
       "      <th>temperature</th>\n",
       "      <th>heart_rate</th>\n",
       "    </tr>\n",
       "  </thead>\n",
       "  <tbody>\n",
       "    <tr>\n",
       "      <th>count</th>\n",
       "      <td>130.000000</td>\n",
       "      <td>130.000000</td>\n",
       "    </tr>\n",
       "    <tr>\n",
       "      <th>mean</th>\n",
       "      <td>98.249231</td>\n",
       "      <td>73.761538</td>\n",
       "    </tr>\n",
       "    <tr>\n",
       "      <th>std</th>\n",
       "      <td>0.733183</td>\n",
       "      <td>7.062077</td>\n",
       "    </tr>\n",
       "    <tr>\n",
       "      <th>min</th>\n",
       "      <td>96.300000</td>\n",
       "      <td>57.000000</td>\n",
       "    </tr>\n",
       "    <tr>\n",
       "      <th>25%</th>\n",
       "      <td>97.800000</td>\n",
       "      <td>69.000000</td>\n",
       "    </tr>\n",
       "    <tr>\n",
       "      <th>50%</th>\n",
       "      <td>98.300000</td>\n",
       "      <td>74.000000</td>\n",
       "    </tr>\n",
       "    <tr>\n",
       "      <th>75%</th>\n",
       "      <td>98.700000</td>\n",
       "      <td>79.000000</td>\n",
       "    </tr>\n",
       "    <tr>\n",
       "      <th>max</th>\n",
       "      <td>100.800000</td>\n",
       "      <td>89.000000</td>\n",
       "    </tr>\n",
       "  </tbody>\n",
       "</table>\n",
       "</div>"
      ],
      "text/plain": [
       "       temperature  heart_rate\n",
       "count   130.000000  130.000000\n",
       "mean     98.249231   73.761538\n",
       "std       0.733183    7.062077\n",
       "min      96.300000   57.000000\n",
       "25%      97.800000   69.000000\n",
       "50%      98.300000   74.000000\n",
       "75%      98.700000   79.000000\n",
       "max     100.800000   89.000000"
      ]
     },
     "execution_count": 51,
     "metadata": {},
     "output_type": "execute_result"
    }
   ],
   "source": [
    "df.describe()"
   ]
  },
  {
   "cell_type": "markdown",
   "metadata": {},
   "source": [
    "### Q1. Is the distribution of body temperatures normal?"
   ]
  },
  {
   "cell_type": "code",
   "execution_count": 52,
   "metadata": {},
   "outputs": [
    {
     "data": {
      "image/png": "[encoded data removed]",
      "text/plain": [
       "<Figure size 1152x216 with 4 Axes>"
      ]
     },
     "metadata": {},
     "output_type": "display_data"
    }
   ],
   "source": [
    "temperature = df.temperature\n",
    "x_temp, y_temp = ecdf(temperature)\n",
    "\n",
    "_ = plt.figure(figsize=(16,3))\n",
    "\n",
    "_ = plt.subplot(1,4,1)\n",
    "_ = plt.hist(temperature)\n",
    "_ = plt.xlabel('Temperature')\n",
    "_ = plt.ylabel('Frequency')\n",
    "_ = plt.title('Histogram')\n",
    "_ = plt.margins(.02)\n",
    "\n",
    "_ = plt.subplot(1,4,2)\n",
    "_ = plt.boxplot(temperature)\n",
    "_ = plt.ylabel('Temperature')\n",
    "_ = plt.title('Box Plot')\n",
    "\n",
    "_ = plt.subplot(1,4,3)\n",
    "_ = plt.plot(x_temp, y_temp, marker='.', linestyle='none')\n",
    "_ = plt.xlabel('Temperature')\n",
    "_ = plt.ylabel('ECDF')\n",
    "_ = plt.title('ECDF Plot')\n",
    "_ = plt.margins(.02)\n",
    "\n",
    "_ = plt.subplot(1,4,4)\n",
    "_ = stats.probplot(temperature, plot=plt)\n",
    "\n",
    "plt.tight_layout()\n",
    "plt.show()"
   ]
  },
  {
   "cell_type": "markdown",
   "metadata": {},
   "source": [
    "Based on the graphs above, the temperatures look **fairly normal** with an ever so slight skew to the left. The probability plot shows that the data lines up pretty well with an ideal normal distribution (the red line). "
   ]
  },
  {
   "cell_type": "markdown",
   "metadata": {},
   "source": [
    "### Q2. Is the sample size large? Are the observations independent?"
   ]
  },
  {
   "cell_type": "markdown",
   "metadata": {},
   "source": [
    "The sample dataset is **reasonably large** because the sample size, n is greater than or equal to 30. Also, we can probably safely assume that the observations are **independent** since the sample size is not be greater than 10% of the world population."
   ]
  },
  {
   "cell_type": "markdown",
   "metadata": {},
   "source": [
    "### Q3. Is the true population mean really 98.6 degrees F?\n",
    "\n",
    "First, *define the null hypothesis*:\n",
    "\n",
    "H0 = The mean temperature is 98.6 degrees F\n",
    "\n",
    "HA = The mean temperature is not 98.6 degrees F\n",
    "\n",
    "Consider an *alpha parameter*:\n",
    "\n",
    "alpha = 0.05\n"
   ]
  },
  {
   "cell_type": "code",
   "execution_count": 117,
   "metadata": {},
   "outputs": [
    {
     "data": {
      "text/plain": [
       "0.0"
      ]
     },
     "execution_count": 117,
     "metadata": {},
     "output_type": "execute_result"
    }
   ],
   "source": [
    "# Bootstrap hypothesis testing.\n",
    "\n",
    "empirical_diff = abs(np.mean(temperature) - 98.6)\n",
    "\n",
    "# shift the temperature since we want to see if the means are equal\n",
    "\n",
    "temperature_shifted = temperature - np.mean(temperature) + 98.6\n",
    "\n",
    "bs_reps = draw_bs_reps(temperature_shifted, np.mean, 10000)\n",
    "\n",
    "temp_diff = abs(bs_reps - 98.6)\n",
    "\n",
    "p = np.sum(temp_diff >= empirical_diff)/len(temp_diff)\n",
    "p"
   ]
  },
  {
   "cell_type": "markdown",
   "metadata": {},
   "source": [
    "As seen above the null hypothesis, **H0 is rejected** since p-value is less than alpha."
   ]
  },
  {
   "cell_type": "markdown",
   "metadata": {},
   "source": [
    "Frequentist statistical testing. We would use a **1 sample test** because we aren't comparing two sample populations just one sample from a given test statistic. In this situation, it would be appropriate to use a **z-statistic** since the sample is large enough that we can estimate that its standard deviation (standard error) is equal to the population's standard deviation."
   ]
  },
  {
   "cell_type": "code",
   "execution_count": 68,
   "metadata": {},
   "outputs": [
    {
     "name": "stdout",
     "output_type": "stream",
     "text": [
      "The mean of the sample is  98.25  +/-  0.06 with a 95% confidence interval of [98.124, 98.375] .\n"
     ]
    }
   ],
   "source": [
    "# Z-statistic testing\n",
    "\n",
    "mean = np.mean(temperature)\n",
    "\n",
    "std_error = np.std(temperature)/np.sqrt(len(temperature))\n",
    "\n",
    "# the z-score for 95% confidence is 1.96\n",
    "confidence_int = [round(mean - 1.96*std_error,3), round(mean + 1.96*std_error,3)]\n",
    "\n",
    "print('The mean of the sample is ', round(mean,2), ' +/- ', round(std_error,2), 'with a 95% confidence interval of', confidence_int,'.')"
   ]
  },
  {
   "cell_type": "markdown",
   "metadata": {},
   "source": [
    "As seen with the bootstrap testing, because 98.6 is not within the confidence interval, we would **reject the null hypothesis, H0** using z-statistic testing."
   ]
  },
  {
   "cell_type": "code",
   "execution_count": 69,
   "metadata": {},
   "outputs": [
    {
     "data": {
      "text/plain": [
       "130"
      ]
     },
     "execution_count": 69,
     "metadata": {},
     "output_type": "execute_result"
    }
   ],
   "source": [
    "len(temperature)"
   ]
  },
  {
   "cell_type": "code",
   "execution_count": 73,
   "metadata": {},
   "outputs": [
    {
     "name": "stdout",
     "output_type": "stream",
     "text": [
      "The mean of the sample is  98.25  +/-  0.06 with a 95% confidence interval of [98.122, 98.376] .\n"
     ]
    }
   ],
   "source": [
    "# t-statistic testing\n",
    "\n",
    "# Use the same stats as the z-score but change the z-score for the t-score\n",
    "# Using a t table, the t-score is not given for a d.f. of 129 (sample size - 1)\n",
    "\n",
    "# However, we can estimate it using a d.f. of 100 which would equal 1.984.\n",
    "\n",
    "t_confidence_int = [round(mean - 1.984*std_error,3), round(mean + 1.984*std_error,3)]\n",
    "\n",
    "print('The mean of the sample is ', round(mean,2), ' +/- ', round(std_error,2), 'with a 95% confidence interval of', t_confidence_int,'.')"
   ]
  },
  {
   "cell_type": "markdown",
   "metadata": {},
   "source": [
    "The result of the t-testing is only slightly different from the z-testing since the sample size is large and appoximately normal."
   ]
  },
  {
   "cell_type": "markdown",
   "metadata": {},
   "source": [
    "### Q4. Draw a small sample of size 10 from the data and repeat both frequentist tests."
   ]
  },
  {
   "cell_type": "markdown",
   "metadata": {},
   "source": [
    "First, we should see if the conditions are met for this test. We will be **randomly** selecting the samples. The sample population is approximately **normal**, as seen above, therefore it pasts the condition of normality. Lastly, even without replacement, we would have an **independent** sample because 10 is less than 10% of the size of the sample of the population that we're sampling from. \n",
    "\n",
    "Since the sample size of 10 is small and it wouldn't be safe to assume that the standard deviation of this sample is the standard deviation of the population, **it would be more appropriate to use the t-statistic**."
   ]
  },
  {
   "cell_type": "code",
   "execution_count": 81,
   "metadata": {},
   "outputs": [
    {
     "name": "stdout",
     "output_type": "stream",
     "text": [
      "[98.6 98.6 98.8 97.7 97.6 98.6 96.3 97.1 97.4 97.4]\n"
     ]
    },
    {
     "data": {
      "image/png": "[encoded data removed]",
      "text/plain": [
       "<Figure size 432x288 with 1 Axes>"
      ]
     },
     "metadata": {},
     "output_type": "display_data"
    }
   ],
   "source": [
    "# get a sample of 10\n",
    "\n",
    "sample_10 = np.random.choice(temperature,10)\n",
    "\n",
    "print(sample_10)\n",
    "\n",
    "_ = plt.hist(sample_10)\n",
    "_ = plt.xlabel('Temperature')\n",
    "_ = plt.ylabel('Frequency')\n",
    "plt.show()"
   ]
  },
  {
   "cell_type": "code",
   "execution_count": 82,
   "metadata": {},
   "outputs": [
    {
     "name": "stdout",
     "output_type": "stream",
     "text": [
      "The mean of the sample is  97.81  +/-  0.25 with a 95% confidence interval of [97.329, 98.291] .\n"
     ]
    }
   ],
   "source": [
    "# z-statistic testing\n",
    "\n",
    "mean = np.mean(sample_10)\n",
    "\n",
    "std_error = np.std(sample_10)/np.sqrt(len(sample_10))\n",
    "\n",
    "# the z-score for 95% confidence is 1.96\n",
    "confidence_int = [round(mean - 1.96*std_error,3), round(mean + 1.96*std_error,3)]\n",
    "\n",
    "print('The mean of the sample is ', round(mean,2), ' +/- ', round(std_error,2), 'with a 95% confidence interval of', confidence_int,'.')"
   ]
  },
  {
   "cell_type": "code",
   "execution_count": 83,
   "metadata": {},
   "outputs": [
    {
     "name": "stdout",
     "output_type": "stream",
     "text": [
      "The mean of the sample is  97.81  +/-  0.25 with a 95% confidence interval of [97.255, 98.365] .\n"
     ]
    }
   ],
   "source": [
    "# t-statistic testing\n",
    "\n",
    "# Use the same stats as the z-score but change the z-score for the t-score\n",
    "# The t-statistic for a d.f. of 9 which would equal 2.262.\n",
    "\n",
    "t_confidence_int = [round(mean - 2.262*std_error,3), round(mean + 2.262*std_error,3)]\n",
    "\n",
    "print('The mean of the sample is ', round(mean,2), ' +/- ', round(std_error,2), 'with a 95% confidence interval of', t_confidence_int,'.')"
   ]
  },
  {
   "cell_type": "markdown",
   "metadata": {},
   "source": [
    "From the testing above, we can see that the t-statistic's confidence interval is wider than the z-statistic's. This is probably due to the uncertainty of the sample. "
   ]
  },
  {
   "cell_type": "markdown",
   "metadata": {},
   "source": [
    "### Q5. At what temperature should we consider someone's temperature to be \"abnormal\"?\n",
    "<li> As in the previous example, try calculating everything using the boostrap approach, as well as the frequentist approach.\n",
    "    <li> Start by computing the margin of error and confidence interval. When calculating the confidence interval, keep in mind that you should use the appropriate formula for one draw, and not N draws."
   ]
  },
  {
   "cell_type": "markdown",
   "metadata": {},
   "source": [
    "This question is interesting as it doesn't clearly define what is abnormal. For all intents and purposes of the project, I will define something that is 'abnormal' is a temperature far from the mean. Therefore, the alpha of this test would be 0.00001 (or 0.001%). I feel this is a satisfactory definition of 'abnormal'. Therefore, any temperature outside the following confidence intervals should be considered 'abnormal'."
   ]
  },
  {
   "cell_type": "code",
   "execution_count": 89,
   "metadata": {},
   "outputs": [
    {
     "name": "stdout",
     "output_type": "stream",
     "text": [
      "A 99.999% confidence interval of the bootstrap testing is [97.99123065 98.54503865] .\n"
     ]
    }
   ],
   "source": [
    "# bootstrap approach\n",
    "\n",
    "bs_reps = draw_bs_reps(temperature, np.mean, 10000)\n",
    "\n",
    "confidence_interval = np.percentile(bs_reps, [0.0005, 99.9995])\n",
    "\n",
    "print('A 99.999% confidence interval of the bootstrap testing is', confidence_interval, '.')"
   ]
  },
  {
   "cell_type": "code",
   "execution_count": 90,
   "metadata": {},
   "outputs": [
    {
     "name": "stdout",
     "output_type": "stream",
     "text": [
      "The mean of the sample is  98.25  +/-  0.06 with a 95% confidence interval of [98.0, 98.498] .\n"
     ]
    }
   ],
   "source": [
    "# frequentist approach\n",
    "\n",
    "# Z-statistic testing\n",
    "\n",
    "mean = np.mean(temperature)\n",
    "\n",
    "std_error = np.std(temperature)/np.sqrt(len(temperature))\n",
    "\n",
    "# the z-score for 99.999% confidence is 3.89\n",
    "confidence_int = [round(mean - 3.89*std_error,3), round(mean + 3.89*std_error,3)]\n",
    "\n",
    "print('The mean of the sample is ', round(mean,2), ' +/- ', round(std_error,2), 'with a 95% confidence interval of', confidence_int,'.')"
   ]
  },
  {
   "cell_type": "markdown",
   "metadata": {},
   "source": [
    "According to the testing above, 'abnormal' temperature would include a temperature of 98.6 F."
   ]
  },
  {
   "cell_type": "markdown",
   "metadata": {},
   "source": [
    "### Q6. Is there a significant difference between males and females in normal temperature?"
   ]
  },
  {
   "cell_type": "markdown",
   "metadata": {},
   "source": [
    "First, we should set up the hypothesis test:\n",
    "\n",
    "<li>H0: there is no difference in normal temperatures between males and females | mean(males) - mean(females) = 0 </li>\n",
    "<li>H1: there is a difference in normal temperatures between males and females | mean(males) - mean(females) != 0 </li>\n",
    "\n",
    "alpha = 0.01 (or 1%)"
   ]
  },
  {
   "cell_type": "code",
   "execution_count": 109,
   "metadata": {},
   "outputs": [
    {
     "data": {
      "text/plain": [
       "0.0105"
      ]
     },
     "execution_count": 109,
     "metadata": {},
     "output_type": "execute_result"
    }
   ],
   "source": [
    "# I will use the bootstrap method. I am utilizing this method because I want to practice hacker stats.\n",
    "\n",
    "# create the two sample populations\n",
    "\n",
    "temp_w = df.temperature[df.gender == 'F']\n",
    "temp_m = df.temperature[df.gender == 'M']\n",
    "\n",
    "empirical_diff = np.mean(temp_w) - np.mean(temp_m)\n",
    "\n",
    "# shift the mean since we are testing that the means are equal \n",
    "\n",
    "temp_w_shifted = temp_w - np.mean(temp_w) + np.mean(temperature)\n",
    "temp_m_shifted = temp_m - np.mean(temp_m) + np.mean(temperature)\n",
    "\n",
    "# create bootstrap reps for each of the populations\n",
    "\n",
    "bs_reps_w = draw_bs_reps(temp_w_shifted, np.mean, 10000)\n",
    "bs_reps_m = draw_bs_reps(temp_m_shifted, np.mean, 10000)\n",
    "\n",
    "difference_in_genders = bs_reps_w - bs_reps_m\n",
    "\n",
    "# find the p-value\n",
    "\n",
    "p = np.sum(difference_in_genders >= empirical_diff)/len(difference_in_genders)\n",
    "p"
   ]
  },
  {
   "cell_type": "markdown",
   "metadata": {},
   "source": [
    "According to the test above and the alpha that was chosen, we cannot **reject** the null hypothesis that the normal temperatures of men and women are the same. However, the p-value is really close to the alpha, meaning that a repeat of this test might have a different outcome depending on the randomness of the test above."
   ]
  },
  {
   "cell_type": "code",
   "execution_count": null,
   "metadata": {},
   "outputs": [],
   "source": []
  },
  {
   "cell_type": "code",
   "execution_count": null,
   "metadata": {},
   "outputs": [],
   "source": []
  },
  {
   "cell_type": "code",
   "execution_count": null,
   "metadata": {},
   "outputs": [],
   "source": []
  },
  {
   "cell_type": "code",
   "execution_count": null,
   "metadata": {},
   "outputs": [],
   "source": []
  },
  {
   "cell_type": "code",
   "execution_count": null,
   "metadata": {},
   "outputs": [],
   "source": []
  },
  {
   "cell_type": "code",
   "execution_count": null,
   "metadata": {},
   "outputs": [],
   "source": []
  },
  {
   "cell_type": "code",
   "execution_count": null,
   "metadata": {},
   "outputs": [],
   "source": []
  },
  {
   "cell_type": "code",
   "execution_count": null,
   "metadata": {},
   "outputs": [],
   "source": []
  },
  {
   "cell_type": "code",
   "execution_count": null,
   "metadata": {},
   "outputs": [],
   "source": []
  }
 ],
 "metadata": {
  "kernelspec": {
   "display_name": "Python 3",
   "language": "python",
   "name": "python3"
  },
  "language_info": {
   "codemirror_mode": {
    "name": "ipython",
    "version": 3
   },
   "file_extension": ".py",
   "mimetype": "text/x-python",
   "name": "python",
   "nbconvert_exporter": "python",
   "pygments_lexer": "ipython3",
   "version": "3.6.7"
  }
 },
 "nbformat": 4,
 "nbformat_minor": 1
}
