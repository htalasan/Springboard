{
 "cells": [
  {
   "cell_type": "markdown",
   "metadata": {},
   "source": [
    "# Capstone Project 1: TBD"
   ]
  },
  {
   "cell_type": "markdown",
   "metadata": {},
   "source": [
    "## Overview"
   ]
  },
  {
   "cell_type": "code",
   "execution_count": 1,
   "metadata": {},
   "outputs": [],
   "source": [
    "%matplotlib inline\n",
    "\n",
    "import pandas as pd\n",
    "import numpy as np\n",
    "import matplotlib.pyplot as plt\n",
    "import seaborn as sns\n",
    "import requests\n",
    "import json\n",
    "import helper"
   ]
  },
  {
   "cell_type": "code",
   "execution_count": 2,
   "metadata": {},
   "outputs": [],
   "source": [
    "# Token needs to be generated everytime; will expire after a while...\n",
    "token = \"BQBxfgUprtqSPS-d_9gbmYuhqkAIcPUcfjJJjAsEQ__8bXqGSTu7_wIDcXoz7Dve93eJUM4PGwvTVc3LY8R53mBNyaQXN8OgT0cqxhypZuL5qaHTwfAzYpaSdrqykPMqeNXyaFterkeFZYrLh7tSfqgrjt8l2ihHS-niuGvoy0GCL3-Toe42jP6dzPyHuyTF4z4t9S70FODspMA4-1RJwl-IQhArR248XjswBNv3eVeDOL2RiDd2WX-7hoKME7fz5GX191YFt9kULvKF-GY\""
   ]
  },
  {
   "cell_type": "code",
   "execution_count": 3,
   "metadata": {},
   "outputs": [],
   "source": [
    "# created playlist to use for example\n",
    "# playlist_id = '29rqX3FuqPWpoIRfrGG5Lp'\n",
    "\n",
    "# happy playlist from spotify for example\n",
    "playlist_id = '37i9dQZF1DXdPec7aLTmlC'"
   ]
  },
  {
   "cell_type": "markdown",
   "metadata": {},
   "source": [
    "## Data Wrangling"
   ]
  },
  {
   "cell_type": "code",
   "execution_count": 4,
   "metadata": {},
   "outputs": [],
   "source": [
    "df = helper.get_df_from_playlist(playlist_id, token)"
   ]
  },
  {
   "cell_type": "code",
   "execution_count": 5,
   "metadata": {},
   "outputs": [
    {
     "data": {
      "text/html": [
       "<div>\n",
       "<style scoped>\n",
       "    .dataframe tbody tr th:only-of-type {\n",
       "        vertical-align: middle;\n",
       "    }\n",
       "\n",
       "    .dataframe tbody tr th {\n",
       "        vertical-align: top;\n",
       "    }\n",
       "\n",
       "    .dataframe thead th {\n",
       "        text-align: right;\n",
       "    }\n",
       "</style>\n",
       "<table border=\"1\" class=\"dataframe\">\n",
       "  <thead>\n",
       "    <tr style=\"text-align: right;\">\n",
       "      <th></th>\n",
       "      <th>album</th>\n",
       "      <th>artist</th>\n",
       "      <th>name</th>\n",
       "      <th>acousticness</th>\n",
       "      <th>analysis_url</th>\n",
       "      <th>danceability</th>\n",
       "      <th>duration_ms</th>\n",
       "      <th>energy</th>\n",
       "      <th>instrumentalness</th>\n",
       "      <th>key</th>\n",
       "      <th>liveness</th>\n",
       "      <th>loudness</th>\n",
       "      <th>mode</th>\n",
       "      <th>speechiness</th>\n",
       "      <th>tempo</th>\n",
       "      <th>time_signature</th>\n",
       "      <th>track_href</th>\n",
       "      <th>type</th>\n",
       "      <th>uri</th>\n",
       "      <th>valence</th>\n",
       "    </tr>\n",
       "    <tr>\n",
       "      <th>id</th>\n",
       "      <th></th>\n",
       "      <th></th>\n",
       "      <th></th>\n",
       "      <th></th>\n",
       "      <th></th>\n",
       "      <th></th>\n",
       "      <th></th>\n",
       "      <th></th>\n",
       "      <th></th>\n",
       "      <th></th>\n",
       "      <th></th>\n",
       "      <th></th>\n",
       "      <th></th>\n",
       "      <th></th>\n",
       "      <th></th>\n",
       "      <th></th>\n",
       "      <th></th>\n",
       "      <th></th>\n",
       "      <th></th>\n",
       "      <th></th>\n",
       "    </tr>\n",
       "  </thead>\n",
       "  <tbody>\n",
       "    <tr>\n",
       "      <th>0aersVHlGGXcHeRvHtuaSt</th>\n",
       "      <td>Matter</td>\n",
       "      <td>[St. Lucia]</td>\n",
       "      <td>Dancing On Glass</td>\n",
       "      <td>0.0189</td>\n",
       "      <td>https://api.spotify.com/v1/audio-analysis/0aer...</td>\n",
       "      <td>0.564</td>\n",
       "      <td>246333</td>\n",
       "      <td>0.945</td>\n",
       "      <td>0.000000</td>\n",
       "      <td>1</td>\n",
       "      <td>0.3590</td>\n",
       "      <td>-4.705</td>\n",
       "      <td>1</td>\n",
       "      <td>0.0493</td>\n",
       "      <td>101.003</td>\n",
       "      <td>4</td>\n",
       "      <td>https://api.spotify.com/v1/tracks/0aersVHlGGXc...</td>\n",
       "      <td>audio_features</td>\n",
       "      <td>spotify:track:0aersVHlGGXcHeRvHtuaSt</td>\n",
       "      <td>0.399</td>\n",
       "    </tr>\n",
       "    <tr>\n",
       "      <th>6gxZLe2tUdy1U51aql0mfR</th>\n",
       "      <td>Bad Self Portraits</td>\n",
       "      <td>[Lake Street Dive]</td>\n",
       "      <td>You Go Down Smooth</td>\n",
       "      <td>0.0642</td>\n",
       "      <td>https://api.spotify.com/v1/audio-analysis/6gxZ...</td>\n",
       "      <td>0.310</td>\n",
       "      <td>209400</td>\n",
       "      <td>0.794</td>\n",
       "      <td>0.000023</td>\n",
       "      <td>4</td>\n",
       "      <td>0.1780</td>\n",
       "      <td>-4.870</td>\n",
       "      <td>1</td>\n",
       "      <td>0.0831</td>\n",
       "      <td>189.184</td>\n",
       "      <td>4</td>\n",
       "      <td>https://api.spotify.com/v1/tracks/6gxZLe2tUdy1...</td>\n",
       "      <td>audio_features</td>\n",
       "      <td>spotify:track:6gxZLe2tUdy1U51aql0mfR</td>\n",
       "      <td>0.284</td>\n",
       "    </tr>\n",
       "    <tr>\n",
       "      <th>3cAeMlAUiqsdqNuauVk0Xy</th>\n",
       "      <td>Gut Feeling</td>\n",
       "      <td>[Peter Bjorn and John]</td>\n",
       "      <td>Gut Feeling</td>\n",
       "      <td>0.1150</td>\n",
       "      <td>https://api.spotify.com/v1/audio-analysis/3cAe...</td>\n",
       "      <td>0.609</td>\n",
       "      <td>182538</td>\n",
       "      <td>0.804</td>\n",
       "      <td>0.000002</td>\n",
       "      <td>7</td>\n",
       "      <td>0.5030</td>\n",
       "      <td>-4.137</td>\n",
       "      <td>1</td>\n",
       "      <td>0.0420</td>\n",
       "      <td>131.986</td>\n",
       "      <td>4</td>\n",
       "      <td>https://api.spotify.com/v1/tracks/3cAeMlAUiqsd...</td>\n",
       "      <td>audio_features</td>\n",
       "      <td>spotify:track:3cAeMlAUiqsdqNuauVk0Xy</td>\n",
       "      <td>0.633</td>\n",
       "    </tr>\n",
       "    <tr>\n",
       "      <th>7yuUGBXakKjMjQnQssIP4I</th>\n",
       "      <td>Must've Been (feat. DRAM)</td>\n",
       "      <td>[Chromeo, DRAM]</td>\n",
       "      <td>Must've Been (feat. DRAM)</td>\n",
       "      <td>0.3360</td>\n",
       "      <td>https://api.spotify.com/v1/audio-analysis/7yuU...</td>\n",
       "      <td>0.800</td>\n",
       "      <td>210559</td>\n",
       "      <td>0.775</td>\n",
       "      <td>0.000000</td>\n",
       "      <td>2</td>\n",
       "      <td>0.2710</td>\n",
       "      <td>-3.363</td>\n",
       "      <td>1</td>\n",
       "      <td>0.0680</td>\n",
       "      <td>125.992</td>\n",
       "      <td>4</td>\n",
       "      <td>https://api.spotify.com/v1/tracks/7yuUGBXakKjM...</td>\n",
       "      <td>audio_features</td>\n",
       "      <td>spotify:track:7yuUGBXakKjMjQnQssIP4I</td>\n",
       "      <td>0.945</td>\n",
       "    </tr>\n",
       "    <tr>\n",
       "      <th>7xdPwAhj4mMqDaNxvNoYnV</th>\n",
       "      <td>Bee-Sting</td>\n",
       "      <td>[The Wombats]</td>\n",
       "      <td>Bee-Sting</td>\n",
       "      <td>0.0457</td>\n",
       "      <td>https://api.spotify.com/v1/audio-analysis/7xdP...</td>\n",
       "      <td>0.650</td>\n",
       "      <td>214433</td>\n",
       "      <td>0.866</td>\n",
       "      <td>0.000000</td>\n",
       "      <td>11</td>\n",
       "      <td>0.0682</td>\n",
       "      <td>-3.713</td>\n",
       "      <td>1</td>\n",
       "      <td>0.0343</td>\n",
       "      <td>115.001</td>\n",
       "      <td>4</td>\n",
       "      <td>https://api.spotify.com/v1/tracks/7xdPwAhj4mMq...</td>\n",
       "      <td>audio_features</td>\n",
       "      <td>spotify:track:7xdPwAhj4mMqDaNxvNoYnV</td>\n",
       "      <td>0.717</td>\n",
       "    </tr>\n",
       "  </tbody>\n",
       "</table>\n",
       "</div>"
      ],
      "text/plain": [
       "                                            album                  artist  \\\n",
       "id                                                                          \n",
       "0aersVHlGGXcHeRvHtuaSt                     Matter             [St. Lucia]   \n",
       "6gxZLe2tUdy1U51aql0mfR         Bad Self Portraits      [Lake Street Dive]   \n",
       "3cAeMlAUiqsdqNuauVk0Xy                Gut Feeling  [Peter Bjorn and John]   \n",
       "7yuUGBXakKjMjQnQssIP4I  Must've Been (feat. DRAM)         [Chromeo, DRAM]   \n",
       "7xdPwAhj4mMqDaNxvNoYnV                  Bee-Sting           [The Wombats]   \n",
       "\n",
       "                                             name  acousticness  \\\n",
       "id                                                                \n",
       "0aersVHlGGXcHeRvHtuaSt           Dancing On Glass        0.0189   \n",
       "6gxZLe2tUdy1U51aql0mfR         You Go Down Smooth        0.0642   \n",
       "3cAeMlAUiqsdqNuauVk0Xy                Gut Feeling        0.1150   \n",
       "7yuUGBXakKjMjQnQssIP4I  Must've Been (feat. DRAM)        0.3360   \n",
       "7xdPwAhj4mMqDaNxvNoYnV                  Bee-Sting        0.0457   \n",
       "\n",
       "                                                             analysis_url  \\\n",
       "id                                                                          \n",
       "0aersVHlGGXcHeRvHtuaSt  https://api.spotify.com/v1/audio-analysis/0aer...   \n",
       "6gxZLe2tUdy1U51aql0mfR  https://api.spotify.com/v1/audio-analysis/6gxZ...   \n",
       "3cAeMlAUiqsdqNuauVk0Xy  https://api.spotify.com/v1/audio-analysis/3cAe...   \n",
       "7yuUGBXakKjMjQnQssIP4I  https://api.spotify.com/v1/audio-analysis/7yuU...   \n",
       "7xdPwAhj4mMqDaNxvNoYnV  https://api.spotify.com/v1/audio-analysis/7xdP...   \n",
       "\n",
       "                        danceability  duration_ms  energy  instrumentalness  \\\n",
       "id                                                                            \n",
       "0aersVHlGGXcHeRvHtuaSt         0.564       246333   0.945          0.000000   \n",
       "6gxZLe2tUdy1U51aql0mfR         0.310       209400   0.794          0.000023   \n",
       "3cAeMlAUiqsdqNuauVk0Xy         0.609       182538   0.804          0.000002   \n",
       "7yuUGBXakKjMjQnQssIP4I         0.800       210559   0.775          0.000000   \n",
       "7xdPwAhj4mMqDaNxvNoYnV         0.650       214433   0.866          0.000000   \n",
       "\n",
       "                        key  liveness  loudness  mode  speechiness    tempo  \\\n",
       "id                                                                            \n",
       "0aersVHlGGXcHeRvHtuaSt    1    0.3590    -4.705     1       0.0493  101.003   \n",
       "6gxZLe2tUdy1U51aql0mfR    4    0.1780    -4.870     1       0.0831  189.184   \n",
       "3cAeMlAUiqsdqNuauVk0Xy    7    0.5030    -4.137     1       0.0420  131.986   \n",
       "7yuUGBXakKjMjQnQssIP4I    2    0.2710    -3.363     1       0.0680  125.992   \n",
       "7xdPwAhj4mMqDaNxvNoYnV   11    0.0682    -3.713     1       0.0343  115.001   \n",
       "\n",
       "                        time_signature  \\\n",
       "id                                       \n",
       "0aersVHlGGXcHeRvHtuaSt               4   \n",
       "6gxZLe2tUdy1U51aql0mfR               4   \n",
       "3cAeMlAUiqsdqNuauVk0Xy               4   \n",
       "7yuUGBXakKjMjQnQssIP4I               4   \n",
       "7xdPwAhj4mMqDaNxvNoYnV               4   \n",
       "\n",
       "                                                               track_href  \\\n",
       "id                                                                          \n",
       "0aersVHlGGXcHeRvHtuaSt  https://api.spotify.com/v1/tracks/0aersVHlGGXc...   \n",
       "6gxZLe2tUdy1U51aql0mfR  https://api.spotify.com/v1/tracks/6gxZLe2tUdy1...   \n",
       "3cAeMlAUiqsdqNuauVk0Xy  https://api.spotify.com/v1/tracks/3cAeMlAUiqsd...   \n",
       "7yuUGBXakKjMjQnQssIP4I  https://api.spotify.com/v1/tracks/7yuUGBXakKjM...   \n",
       "7xdPwAhj4mMqDaNxvNoYnV  https://api.spotify.com/v1/tracks/7xdPwAhj4mMq...   \n",
       "\n",
       "                                  type                                   uri  \\\n",
       "id                                                                             \n",
       "0aersVHlGGXcHeRvHtuaSt  audio_features  spotify:track:0aersVHlGGXcHeRvHtuaSt   \n",
       "6gxZLe2tUdy1U51aql0mfR  audio_features  spotify:track:6gxZLe2tUdy1U51aql0mfR   \n",
       "3cAeMlAUiqsdqNuauVk0Xy  audio_features  spotify:track:3cAeMlAUiqsdqNuauVk0Xy   \n",
       "7yuUGBXakKjMjQnQssIP4I  audio_features  spotify:track:7yuUGBXakKjMjQnQssIP4I   \n",
       "7xdPwAhj4mMqDaNxvNoYnV  audio_features  spotify:track:7xdPwAhj4mMqDaNxvNoYnV   \n",
       "\n",
       "                        valence  \n",
       "id                               \n",
       "0aersVHlGGXcHeRvHtuaSt    0.399  \n",
       "6gxZLe2tUdy1U51aql0mfR    0.284  \n",
       "3cAeMlAUiqsdqNuauVk0Xy    0.633  \n",
       "7yuUGBXakKjMjQnQssIP4I    0.945  \n",
       "7xdPwAhj4mMqDaNxvNoYnV    0.717  "
      ]
     },
     "execution_count": 5,
     "metadata": {},
     "output_type": "execute_result"
    }
   ],
   "source": [
    "df.head()"
   ]
  },
  {
   "cell_type": "code",
   "execution_count": 7,
   "metadata": {},
   "outputs": [
    {
     "name": "stdout",
     "output_type": "stream",
     "text": [
      "<class 'pandas.core.frame.DataFrame'>\n",
      "Index: 60 entries, 0aersVHlGGXcHeRvHtuaSt to 0H8pgTFFb4K2M4t5LKsP5H\n",
      "Data columns (total 20 columns):\n",
      "album               60 non-null object\n",
      "artist              60 non-null object\n",
      "name                60 non-null object\n",
      "acousticness        60 non-null float64\n",
      "analysis_url        60 non-null object\n",
      "danceability        60 non-null float64\n",
      "duration_ms         60 non-null int64\n",
      "energy              60 non-null float64\n",
      "instrumentalness    60 non-null float64\n",
      "key                 60 non-null int64\n",
      "liveness            60 non-null float64\n",
      "loudness            60 non-null float64\n",
      "mode                60 non-null int64\n",
      "speechiness         60 non-null float64\n",
      "tempo               60 non-null float64\n",
      "time_signature      60 non-null int64\n",
      "track_href          60 non-null object\n",
      "type                60 non-null object\n",
      "uri                 60 non-null object\n",
      "valence             60 non-null float64\n",
      "dtypes: float64(9), int64(4), object(7)\n",
      "memory usage: 8.0+ KB\n"
     ]
    }
   ],
   "source": [
    "df.info()"
   ]
  },
  {
   "cell_type": "code",
   "execution_count": null,
   "metadata": {},
   "outputs": [],
   "source": []
  },
  {
   "cell_type": "code",
   "execution_count": null,
   "metadata": {},
   "outputs": [],
   "source": []
  },
  {
   "cell_type": "code",
   "execution_count": null,
   "metadata": {},
   "outputs": [],
   "source": []
  },
  {
   "cell_type": "code",
   "execution_count": null,
   "metadata": {},
   "outputs": [],
   "source": [
    "url = f\"https://api.spotify.com/v1/me/playlists/\"\n",
    "headers = {'Authorization': f\"Bearer {token}\"}\n",
    "r = requests.get(url, headers=headers)\n",
    "parsed = json.loads(r.text)\n"
   ]
  },
  {
   "cell_type": "code",
   "execution_count": null,
   "metadata": {},
   "outputs": [],
   "source": []
  },
  {
   "cell_type": "code",
   "execution_count": null,
   "metadata": {},
   "outputs": [],
   "source": []
  },
  {
   "cell_type": "markdown",
   "metadata": {},
   "source": [
    "## EDA"
   ]
  },
  {
   "cell_type": "code",
   "execution_count": null,
   "metadata": {},
   "outputs": [],
   "source": []
  },
  {
   "cell_type": "code",
   "execution_count": null,
   "metadata": {},
   "outputs": [],
   "source": []
  },
  {
   "cell_type": "code",
   "execution_count": null,
   "metadata": {},
   "outputs": [],
   "source": []
  },
  {
   "cell_type": "code",
   "execution_count": null,
   "metadata": {},
   "outputs": [],
   "source": []
  },
  {
   "cell_type": "code",
   "execution_count": null,
   "metadata": {},
   "outputs": [],
   "source": []
  },
  {
   "cell_type": "code",
   "execution_count": null,
   "metadata": {},
   "outputs": [],
   "source": []
  },
  {
   "cell_type": "code",
   "execution_count": null,
   "metadata": {},
   "outputs": [],
   "source": []
  },
  {
   "cell_type": "code",
   "execution_count": null,
   "metadata": {},
   "outputs": [],
   "source": []
  },
  {
   "cell_type": "code",
   "execution_count": null,
   "metadata": {},
   "outputs": [],
   "source": []
  },
  {
   "cell_type": "code",
   "execution_count": null,
   "metadata": {},
   "outputs": [],
   "source": []
  },
  {
   "cell_type": "code",
   "execution_count": null,
   "metadata": {},
   "outputs": [],
   "source": []
  },
  {
   "cell_type": "code",
   "execution_count": null,
   "metadata": {},
   "outputs": [],
   "source": []
  },
  {
   "cell_type": "code",
   "execution_count": null,
   "metadata": {},
   "outputs": [],
   "source": []
  },
  {
   "cell_type": "code",
   "execution_count": null,
   "metadata": {},
   "outputs": [],
   "source": []
  },
  {
   "cell_type": "code",
   "execution_count": null,
   "metadata": {},
   "outputs": [],
   "source": []
  },
  {
   "cell_type": "code",
   "execution_count": null,
   "metadata": {},
   "outputs": [],
   "source": []
  },
  {
   "cell_type": "code",
   "execution_count": null,
   "metadata": {},
   "outputs": [],
   "source": []
  },
  {
   "cell_type": "code",
   "execution_count": null,
   "metadata": {},
   "outputs": [],
   "source": []
  },
  {
   "cell_type": "code",
   "execution_count": null,
   "metadata": {},
   "outputs": [],
   "source": []
  },
  {
   "cell_type": "code",
   "execution_count": null,
   "metadata": {},
   "outputs": [],
   "source": []
  },
  {
   "cell_type": "code",
   "execution_count": null,
   "metadata": {},
   "outputs": [],
   "source": []
  },
  {
   "cell_type": "code",
   "execution_count": null,
   "metadata": {},
   "outputs": [],
   "source": []
  },
  {
   "cell_type": "code",
   "execution_count": null,
   "metadata": {},
   "outputs": [],
   "source": []
  },
  {
   "cell_type": "code",
   "execution_count": null,
   "metadata": {},
   "outputs": [],
   "source": []
  },
  {
   "cell_type": "code",
   "execution_count": null,
   "metadata": {},
   "outputs": [],
   "source": []
  },
  {
   "cell_type": "code",
   "execution_count": null,
   "metadata": {},
   "outputs": [],
   "source": []
  },
  {
   "cell_type": "code",
   "execution_count": null,
   "metadata": {},
   "outputs": [],
   "source": []
  },
  {
   "cell_type": "code",
   "execution_count": null,
   "metadata": {},
   "outputs": [],
   "source": []
  },
  {
   "cell_type": "code",
   "execution_count": null,
   "metadata": {},
   "outputs": [],
   "source": []
  },
  {
   "cell_type": "code",
   "execution_count": null,
   "metadata": {},
   "outputs": [],
   "source": []
  }
 ],
 "metadata": {
  "kernelspec": {
   "display_name": "Python 3",
   "language": "python",
   "name": "python3"
  },
  "language_info": {
   "codemirror_mode": {
    "name": "ipython",
    "version": 3
   },
   "file_extension": ".py",
   "mimetype": "text/x-python",
   "name": "python",
   "nbconvert_exporter": "python",
   "pygments_lexer": "ipython3",
   "version": "3.6.7"
  }
 },
 "nbformat": 4,
 "nbformat_minor": 2
}
